{
 "cells": [
  {
   "cell_type": "code",
   "execution_count": 56,
   "metadata": {},
   "outputs": [
    {
     "name": "stdout",
     "output_type": "stream",
     "text": [
      "<class 'pandas.core.frame.DataFrame'>\n",
      "DatetimeIndex: 1655 entries, 2013-04-28 to 2017-11-07\n",
      "Data columns (total 6 columns):\n",
      "Open          1655 non-null float64\n",
      "High          1655 non-null float64\n",
      "Low           1655 non-null float64\n",
      "Close         1655 non-null float64\n",
      "Volume        1655 non-null object\n",
      "Market Cap    1655 non-null object\n",
      "dtypes: float64(4), object(2)\n",
      "memory usage: 90.5+ KB\n",
      "              Close\n",
      "Date               \n",
      "2017-11-03  7207.76\n",
      "2017-11-04  7379.95\n",
      "2017-11-05  7407.41\n",
      "2017-11-06  7022.76\n",
      "2017-11-07  7144.38\n"
     ]
    }
   ],
   "source": [
    "# import quandl\n",
    "import pandas as pd\n",
    "import numpy as np\n",
    "import datetime\n",
    "from sklearn.linear_model import LinearRegression\n",
    "from sklearn import preprocessing, cross_validation, svm\n",
    "\n",
    "# df = quandl.get(\"WIKI/AMZN\")\n",
    "df = pd.read_csv('bitcoin_price.csv', parse_dates=['Date'],)\n",
    "df=df.iloc[::-1]\n",
    "df.index = df['Date']\n",
    "del df['Date']\n",
    "df.info()\n",
    "df = df[['Close']]\n",
    "print(df.tail())"
   ]
  },
  {
   "cell_type": "code",
   "execution_count": 57,
   "metadata": {},
   "outputs": [
    {
     "data": {
      "text/html": [
       "<div>\n",
       "<style scoped>\n",
       "    .dataframe tbody tr th:only-of-type {\n",
       "        vertical-align: middle;\n",
       "    }\n",
       "\n",
       "    .dataframe tbody tr th {\n",
       "        vertical-align: top;\n",
       "    }\n",
       "\n",
       "    .dataframe thead th {\n",
       "        text-align: right;\n",
       "    }\n",
       "</style>\n",
       "<table border=\"1\" class=\"dataframe\">\n",
       "  <thead>\n",
       "    <tr style=\"text-align: right;\">\n",
       "      <th></th>\n",
       "      <th>Close</th>\n",
       "    </tr>\n",
       "    <tr>\n",
       "      <th>Date</th>\n",
       "      <th></th>\n",
       "    </tr>\n",
       "  </thead>\n",
       "  <tbody>\n",
       "    <tr>\n",
       "      <th>2013-04-28</th>\n",
       "      <td>134.21</td>\n",
       "    </tr>\n",
       "    <tr>\n",
       "      <th>2013-04-29</th>\n",
       "      <td>144.54</td>\n",
       "    </tr>\n",
       "    <tr>\n",
       "      <th>2013-04-30</th>\n",
       "      <td>139.00</td>\n",
       "    </tr>\n",
       "    <tr>\n",
       "      <th>2013-05-01</th>\n",
       "      <td>116.99</td>\n",
       "    </tr>\n",
       "    <tr>\n",
       "      <th>2013-05-02</th>\n",
       "      <td>105.21</td>\n",
       "    </tr>\n",
       "  </tbody>\n",
       "</table>\n",
       "</div>"
      ],
      "text/plain": [
       "             Close\n",
       "Date              \n",
       "2013-04-28  134.21\n",
       "2013-04-29  144.54\n",
       "2013-04-30  139.00\n",
       "2013-05-01  116.99\n",
       "2013-05-02  105.21"
      ]
     },
     "execution_count": 57,
     "metadata": {},
     "output_type": "execute_result"
    }
   ],
   "source": [
    "df.head()"
   ]
  },
  {
   "cell_type": "code",
   "execution_count": 58,
   "metadata": {},
   "outputs": [
    {
     "name": "stdout",
     "output_type": "stream",
     "text": [
      "confidence:  0.9036278554322356\n",
      "[5691.10004813 5703.08055399 5756.54220957 6502.08536461 6742.77697197\n",
      " 6964.57855404 6780.00426102 6836.96273426 6692.66793539 6674.85940009\n",
      " 6816.45047396 7180.46799077 7204.68135018 7176.82697445 7082.97767572\n",
      " 6597.89336189 6867.25647076 7052.34747566 6903.42630292 6870.00826198\n",
      " 7351.58374159 7323.56113408 7729.56449594 8088.75135743 8462.69454911\n",
      " 8618.02054596 8824.93361571 8857.93107721 8395.71426856 8541.85961698]\n"
     ]
    }
   ],
   "source": [
    "df = df[['Close']]\n",
    "\n",
    "forecast_out = int(30)\n",
    "\n",
    "df['Prediction'] = df[['Close']].shift(-forecast_out)\n",
    "\n",
    "X = np.array(df.drop(['Prediction'],1))\n",
    "X = preprocessing.scale(X)\n",
    "\n",
    "X_forecast = X[-forecast_out:]\n",
    "X = X[:-forecast_out]\n",
    "\n",
    "y = np.array(df['Prediction'])\n",
    "y = y[:-forecast_out]\n",
    "\n",
    "X_train, X_test, y_train, y_test = cross_validation.train_test_split(X, y, test_size = 0.2)\n",
    "\n",
    "clf = LinearRegression()\n",
    "clf.fit(X_train,y_train)\n",
    "\n",
    "confidence = clf.score(X_test, y_test)\n",
    "print(\"confidence: \", confidence)\n",
    "\n",
    "forecast_prediction = clf.predict(X_forecast)\n",
    "print(forecast_prediction)"
   ]
  },
  {
   "cell_type": "code",
   "execution_count": 63,
   "metadata": {},
   "outputs": [
    {
     "data": {
      "image/png": "[encoded data removed]",
      "text/plain": [
       "<matplotlib.figure.Figure at 0x7fdc10b14470>"
      ]
     },
     "metadata": {},
     "output_type": "display_data"
    }
   ],
   "source": [
    "import matplotlib.pyplot as plt\n",
    "# print(X_test)\n",
    "# print(y_test)\n",
    "# plt.plot(X_test,forecast_set,color='blue', linewidth=1)\n",
    "plt.scatter(X_test, y_test, color='darkorange', label='data')\n",
    "# plt.plot(X_test, y_test, color='darkorange', linewidth=1)\n",
    "# plt.plot(X_test, forecast_prediction, color='blue', linew/idth=2)\n",
    "plt.show()"
   ]
  },
  {
   "cell_type": "code",
   "execution_count": 64,
   "metadata": {},
   "outputs": [
    {
     "data": {
      "text/plain": [
       "0.9036278554322356"
      ]
     },
     "execution_count": 64,
     "metadata": {},
     "output_type": "execute_result"
    }
   ],
   "source": [
    "clf.score(X_test,y_test)"
   ]
  },
  {
   "cell_type": "code",
   "execution_count": 62,
   "metadata": {},
   "outputs": [],
   "source": [
    "# dict_new = {\n",
    "#     'Date': X_train,\n",
    "#     'Close': y_train\n",
    "# }\n",
    "# df1=pd.DataFrame(dict_new).set_index('Date')\n",
    "# df1"
   ]
  },
  {
   "cell_type": "code",
   "execution_count": 61,
   "metadata": {},
   "outputs": [
    {
     "data": {
      "image/png": "[encoded data removed]",
      "text/plain": [
       "<matplotlib.figure.Figure at 0x7fdc10ae9278>"
      ]
     },
     "metadata": {},
     "output_type": "display_data"
    }
   ],
   "source": [
    "plt.figure(figsize=(12,8))\n",
    "plt.plot(df['Close'], label='Train')\n",
    "# plt.plot(X_test['Close'], label='Test')\n",
    "# plt.plot(y_hat_avg['avg_forecast'], label='Average Forecast')\n",
    "plt.legend(loc='best')\n",
    "plt.show()"
   ]
  },
  {
   "cell_type": "code",
   "execution_count": 7,
   "metadata": {},
   "outputs": [
    {
     "name": "stdout",
     "output_type": "stream",
     "text": [
      "3629.001658095474\n"
     ]
    }
   ],
   "source": [
    "rms = sqrt(mean_squared_error(test.Close, y_hat_avg.avg_forecast))\n",
    "print(rms)"
   ]
  }
 ],
 "metadata": {
  "kernelspec": {
   "display_name": "Python 3",
   "language": "python",
   "name": "python3"
  },
  "language_info": {
   "codemirror_mode": {
    "name": "ipython",
    "version": 3
   },
   "file_extension": ".py",
   "mimetype": "text/x-python",
   "name": "python",
   "nbconvert_exporter": "python",
   "pygments_lexer": "ipython3",
   "version": "3.6.4"
  }
 },
 "nbformat": 4,
 "nbformat_minor": 2
}
